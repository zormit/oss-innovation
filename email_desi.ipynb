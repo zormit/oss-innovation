{
 "cells": [
  {
   "cell_type": "code",
   "execution_count": 1,
   "metadata": {
    "collapsed": false
   },
   "outputs": [],
   "source": [
    "import os\n",
    "import pickle\n",
    "import email\n",
    "\n",
    "import numpy as np\n",
    "import pandas as pd\n",
    "from matplotlib import pylab as plt"
   ]
  },
  {
   "cell_type": "code",
   "execution_count": 2,
   "metadata": {
    "collapsed": false
   },
   "outputs": [],
   "source": [
    "%matplotlib inline"
   ]
  },
  {
   "cell_type": "code",
   "execution_count": 3,
   "metadata": {
    "collapsed": true
   },
   "outputs": [],
   "source": [
    "from IPython.core.debugger import Tracer"
   ]
  },
  {
   "cell_type": "code",
   "execution_count": 4,
   "metadata": {
    "collapsed": true
   },
   "outputs": [],
   "source": [
    "storage_path = '/home/zormit/bigdata/innovation-thesis/'\n",
    "projects_data_filename = '/home/zormit/ownCloud/Uni/msemester5/innovation-thesis/data/projects.csv'"
   ]
  },
  {
   "cell_type": "code",
   "execution_count": 5,
   "metadata": {
    "collapsed": true
   },
   "outputs": [],
   "source": [
    "def load_headers(storage_path, projects_data_filename):\n",
    "    projects_data = pd.read_csv(projects_data_filename, skipfooter=1, engine='python')\n",
    "    headers = dict()\n",
    "    for row_id, project_data in projects_data.iterrows():\n",
    "        project_headers_filename = os.path.join(\n",
    "            storage_path,\n",
    "            'header',\n",
    "            project_data.list_id+'.pkl')\n",
    "        with open(project_headers_filename, 'rb') as project_headers:\n",
    "            headers[project_data.list_id] = pickle.load(project_headers)\n",
    "    return headers"
   ]
  },
  {
   "cell_type": "code",
   "execution_count": 6,
   "metadata": {
    "collapsed": false
   },
   "outputs": [],
   "source": [
    "headers = load_headers(storage_path, projects_data_filename)"
   ]
  },
  {
   "cell_type": "code",
   "execution_count": 7,
   "metadata": {
    "collapsed": false
   },
   "outputs": [
    {
     "data": {
      "text/plain": [
       "dict_keys(['gmane.comp.desktop.xfce.devel.version4', 'gmane.comp.emulators.freedos.devel', 'gmane.comp.bug-tracking.bugzilla.devel', 'gmane.comp.emulators.bochs.devel', 'gmane.comp.emulators.kvm.devel', 'gmane.comp.bug-tracking.flyspray.devel', 'gmane.comp.desktop.rox.devel', 'gmane.comp.boot-loaders.grub.devel', 'gmane.comp.db.monetdb.devel', 'gmane.comp.bug-tracking.request-tracker.devel', 'gmane.comp.cad.geda.devel', 'gmane.comp.boot-loaders.u-boot', 'gmane.comp.db.axion.devel'])"
      ]
     },
     "execution_count": 7,
     "metadata": {},
     "output_type": "execute_result"
    }
   ],
   "source": [
    "headers.keys()"
   ]
  },
  {
   "cell_type": "code",
   "execution_count": 34,
   "metadata": {
    "collapsed": false
   },
   "outputs": [
    {
     "name": "stdout",
     "output_type": "stream",
     "text": [
      "gmane.comp.desktop.xfce.devel.version4\n",
      "gmane.comp.emulators.freedos.devel\n",
      "gmane.comp.bug-tracking.bugzilla.devel\n",
      "gmane.comp.emulators.bochs.devel\n",
      "gmane.comp.emulators.kvm.devel\n",
      "gmane.comp.bug-tracking.flyspray.devel\n",
      "gmane.comp.desktop.rox.devel\n",
      "gmane.comp.boot-loaders.grub.devel\n",
      "gmane.comp.db.monetdb.devel\n",
      "gmane.comp.bug-tracking.request-tracker.devel\n",
      "gmane.comp.cad.geda.devel\n",
      "gmane.comp.boot-loaders.u-boot\n",
      "gmane.comp.db.axion.devel\n"
     ]
    }
   ],
   "source": [
    "start_date = '2007-1-1'\n",
    "end_date = '2015-12-31'\n",
    "per_day = pd.date_range(start_date, end_date, freq='D')\n",
    "emails_per_day = pd.DataFrame(np.zeros((len(per_day), len(headers)), dtype=int), index=per_day , columns=headers.keys())\n",
    "\n",
    "for project, p_headers in headers.items():\n",
    "    print(project)\n",
    "    # emails_per_day = pd.Series(np.zeros(len(per_day), dtype=int), index=per_day)\n",
    "    for header in p_headers:\n",
    "        email_datetime = email.utils.parsedate_to_datetime(header['Date'])\n",
    "        try:\n",
    "            emails_per_day.loc[email_datetime.date(), project] += 1\n",
    "        except KeyError:\n",
    "            # ignore dates that are out of range\n",
    "            pass\n",
    "    # break # go only over one project, for development purposes"
   ]
  },
  {
   "cell_type": "code",
   "execution_count": 38,
   "metadata": {
    "collapsed": false
   },
   "outputs": [],
   "source": [
    "import pickle\n",
    "pickle.dump(emails_per_day, open('../data/intermediate_results/emails_per_day.pkl', 'wb'))"
   ]
  },
  {
   "cell_type": "code",
   "execution_count": null,
   "metadata": {
    "collapsed": true
   },
   "outputs": [],
   "source": []
  }
 ],
 "metadata": {
  "kernelspec": {
   "display_name": "Python 3",
   "language": "python",
   "name": "python3"
  },
  "language_info": {
   "codemirror_mode": {
    "name": "ipython",
    "version": 3
   },
   "file_extension": ".py",
   "mimetype": "text/x-python",
   "name": "python",
   "nbconvert_exporter": "python",
   "pygments_lexer": "ipython3",
   "version": "3.4.2"
  }
 },
 "nbformat": 4,
 "nbformat_minor": 0
}
