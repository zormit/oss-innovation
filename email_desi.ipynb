{
 "cells": [
  {
   "cell_type": "code",
   "execution_count": 1,
   "metadata": {
    "collapsed": false
   },
   "outputs": [],
   "source": [
    "import os\n",
    "import pickle\n",
    "\n",
    "import pandas as pd\n",
    "from matplotlib import pylab as plt"
   ]
  },
  {
   "cell_type": "code",
   "execution_count": 2,
   "metadata": {
    "collapsed": true
   },
   "outputs": [],
   "source": [
    "storage_path = '/home/zormit/bigdata/innovation-thesis/'\n",
    "projects_data_filename = '/home/zormit/ownCloud/Uni/msemester5/innovation-thesis/data/projects.csv'"
   ]
  },
  {
   "cell_type": "code",
   "execution_count": 3,
   "metadata": {
    "collapsed": true
   },
   "outputs": [],
   "source": [
    "def load_headers(storage_path, projects_data_filename):\n",
    "    projects_data = pd.read_csv(projects_data_filename, skipfooter=1, engine='python')\n",
    "    headers = dict()\n",
    "    for row_id, project_data in projects_data.iterrows():\n",
    "        project_headers_filename = os.path.join(\n",
    "            storage_path,\n",
    "            'header',\n",
    "            project_data.list_id+'.pkl')\n",
    "        with open(project_headers_filename, 'rb') as project_headers:\n",
    "            headers[project_data.list_id] = pickle.load(project_headers)\n",
    "    return headers"
   ]
  },
  {
   "cell_type": "code",
   "execution_count": 4,
   "metadata": {
    "collapsed": false
   },
   "outputs": [],
   "source": [
    "headers = load_headers(storage_path, projects_data_filename)"
   ]
  },
  {
   "cell_type": "code",
   "execution_count": 5,
   "metadata": {
    "collapsed": false
   },
   "outputs": [
    {
     "data": {
      "text/plain": [
       "dict_keys(['gmane.comp.emulators.bochs.devel', 'gmane.comp.bug-tracking.flyspray.devel', 'gmane.comp.emulators.freedos.devel', 'gmane.comp.bug-tracking.bugzilla.devel', 'gmane.comp.db.axion.devel', 'gmane.comp.emulators.kvm.devel', 'gmane.comp.desktop.xfce.devel.version4', 'gmane.comp.boot-loaders.grub.devel', 'gmane.comp.boot-loaders.u-boot', 'gmane.comp.cad.geda.devel', 'gmane.comp.db.monetdb.devel', 'gmane.comp.bug-tracking.request-tracker.devel', 'gmane.comp.desktop.rox.devel'])"
      ]
     },
     "execution_count": 5,
     "metadata": {},
     "output_type": "execute_result"
    }
   ],
   "source": [
    "headers.keys()"
   ]
  },
  {
   "cell_type": "code",
   "execution_count": null,
   "metadata": {
    "collapsed": true
   },
   "outputs": [],
   "source": []
  }
 ],
 "metadata": {
  "kernelspec": {
   "display_name": "Python 3",
   "language": "python",
   "name": "python3"
  },
  "language_info": {
   "codemirror_mode": {
    "name": "ipython",
    "version": 3
   },
   "file_extension": ".py",
   "mimetype": "text/x-python",
   "name": "python",
   "nbconvert_exporter": "python",
   "pygments_lexer": "ipython3",
   "version": "3.4.2"
  }
 },
 "nbformat": 4,
 "nbformat_minor": 0
}
